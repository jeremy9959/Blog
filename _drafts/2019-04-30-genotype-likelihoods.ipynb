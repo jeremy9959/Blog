{
 "cells": [
  {
   "cell_type": "markdown",
   "metadata": {},
   "source": [
    "## SNP calling\n",
    "\n",
    "These are some notes on the (old) paper:\n",
    "\n",
    "*Li, H. A statistical framework for SNP calling, mutation discovery, association mapping and population genetical parameter estimation from sequencing data. Bioinformatics, Vol. 27, no. 21, 2011, pp. 2987-2993.*"
   ]
  },
  {
   "cell_type": "markdown",
   "metadata": {},
   "source": [
    "For simplicity, we assume we have a diploid individual.  We imagine that we do some sequencing experiments on a population in Hardy-Weinberg equilibrium (HWE). We are interested in a particular site in the genome, where we assume that our sequencing experiments yield either a reference allele R or an alternative allele A.  We would like to estimate the\n",
    "frequency $\\psi$  of the reference allele in the population. \n",
    "\n",
    "A given individual can have one of three genotypes: RR, RA, and AA.  Since the population is in HWE, the frequencies of these genotypes are $\\psi^2$, $2\\psi(1-\\psi)$, and $(1-\\psi)^2$.  \n",
    "\n",
    "A sequencing experiment of depth $k$ on an individual yields $l$ reference bases $R_1,\\ldots, R_{l}$  and $k-l$ alternative bases $A_{l+1}, \\ldots, A_{k}$. \n",
    "Each base also has an associated error $\\epsilon_j$ which is the probability that the $j^{th}$ base read is incorrect.\n",
    "\n",
    "Let $g$ be the number of reference bases in the genotype (so $g=0,1,2$).  The\n",
    "likelihood of obtaining $l$ reference bases out of $k$ tries assuming genotype $g=0$ is\n",
    "$$\n",
    "P(l|g=0)=\\prod_{j=1}^{l}P(\\mathrm{read}_j=R|\\mathrm{truth}_j=A) \\prod_{j=l+1}^{k}P(\\mathrm{read}_j=A|\\mathrm{truth}_j=A)=\\prod_{j=1}^{l}\\epsilon_{j}\\prod_{j=l+1}^{k}(1-\\epsilon_{j})\n",
    "$$\n",
    "\n",
    "In the $g=1$ case, we use the fact that\n",
    "$$\n",
    "P(\\mathrm{truth}=A)=P(\\mathrm{truth}=R)=\\frac{1}{2}\n",
    "$$\n",
    "and\n",
    "$$\n",
    "P(\\mathrm{read}=R|\\mathrm{truth}=A)=P(\\mathrm{read}=A|\\mathrm{truth}=R)=\\epsilon\n",
    "$$\n",
    "to conclude that\n",
    "$$\n",
    "P(\\mathrm{read}=R)=P(\\mathrm{read}=R|\\mathrm{truth}=R)P(\\mathrm{truth}=R)+P(\\mathrm{read}=R|\\mathrm{truth}=A)P(\\mathrm{truth}=A)=\\frac{1}{2}\n",
    "$$\n",
    "and similarly \n",
    "$$\n",
    "P(\\mathrm{read}=A)=\\frac{1}{2}.\n",
    "$$\n",
    "\n",
    "Therefore:\n",
    "$$\n",
    "P(l|g=1)=\\prod_{j=1}^{l}P(\\mathrm{read}_j=R)\\prod_{j=l+1}^{k}P(\\mathrm{read}_j=A)=\\frac{1}{2^k}\n",
    "$$\n",
    "\n",
    "Lastly, the computation for $g=2$ is just like the case for $g=0$ and yields\n",
    "$$\n",
    "P(l|g=2)=\\prod_{j=1}^{l}(1-\\epsilon_{j})\\prod_{j=l+1}^{k}\\epsilon_{j}\n",
    "$$"
   ]
  },
  {
   "cell_type": "markdown",
   "metadata": {},
   "source": [
    "## Multiple samples\n",
    "\n",
    "The calculation above examines the case of what we expect if we do a sequencing experiment on a single individual and attempt to reconstruct the genotype of that individual.  But we are interested in the allele frequency in the population.   So we do the sequencing experiment on multiple individuals; let $(l_i, k_i)$, for $i=1,\\ldots, n$ be the number of reference alleles and the depth that we obtain from experiment $i$.   Using the HWE, \n",
    "we have\n",
    "\n",
    "$$\n",
    "P((l_i,k_i)|\\psi)=\\sum_{g=0}^{2} P((l_i,k_i)|g)P(g|\\psi)\n",
    "$$\n",
    "and the combined probability is\n",
    "$$\n",
    "P(\\{(l_i,k_i)\\}_{i=1}^{n}|\\psi)=\\prod_{i=1}^{n}P((l_i,k_i)|\\psi).\n",
    "$$\n",
    "\n",
    "Using this one can, for example, compute the maximum likelihood estimate of $\\psi$ by applying the Expectation Maximization algorithm.\n"
   ]
  },
  {
   "cell_type": "markdown",
   "metadata": {},
   "source": [
    "## The EM algorithm\n",
    "\n",
    "The EM algorithm proceeds iteratively.  First, we assume that we have an initial guess for $\\psi$ and treat $\\psi$ as a fixed parameter.  Given $\\psi$ and the data, we find the expected genotype.  We write $P_{\\psi}$ to remind\n",
    "us that we are treating $\\psi$ as fixed for now.  Using Bayes Rule we have:\n",
    "\n",
    "$$\n",
    "P_{\\psi}(g|d) = \\frac{P_{\\psi}(d|g)P_{\\psi}(g)}{\\sum_{g=0}^{2} P_{\\psi}(d|g)P_{\\psi}(g)}\n",
    "$$\n",
    "\n",
    "Therefore, for a given individual dataset, the expected genotype is\n",
    "\n",
    "$$\n",
    "E(g|d)=\\sum_{g=0}^{2}gP_{\\psi}(g|d)=\\frac{\\sum_{g=0}^{2} gP_{\\psi}(d|g)P_{\\psi}(g)}{\\sum_{g=0}^{2} P_{\\psi}(d|g)P_{\\psi}(g)}\n",
    "$$\n",
    "\n",
    "and the expected genotype for the entire sample is\n",
    "\n",
    "$$\n",
    "E=\\frac{1}{n}\\sum_{i=1}^{n} E(g|d_i).\n",
    "$$\n",
    "\n",
    "For the maximization step of the EM algorithm, we need to take the maximum likelihood estimate of $\\psi$ based on this $E$.  But that's easy, because if the mean genotype is $g$, then the mean number of reference alleles is $g$ and so the reference allele frequency is $g/2$.\n",
    "\n",
    "\n",
    "\n"
   ]
  },
  {
   "cell_type": "markdown",
   "metadata": {},
   "source": [
    "The following functions give a crude implementation of the EM algorithm in the paper.\n",
    "\n",
    "- N is the depth (assumed the same for all samples)\n",
    "- r is the number of reference alleles observed in the sample\n",
    "- e is the error probability (assumed the same for all samples)\n",
    "- g is the genotype (0,1,2) -- ploidy fixed at 2"
   ]
  },
  {
   "cell_type": "code",
   "execution_count": 19,
   "metadata": {},
   "outputs": [
    {
     "data": {
      "image/png": "[encoded data removed]",
      "text/plain": [
       "<Figure size 432x288 with 1 Axes>"
      ]
     },
     "metadata": {
      "needs_background": "light"
     },
     "output_type": "display_data"
    }
   ],
   "source": [
    "import numpy as np\n",
    "from scipy.special import binom\n",
    "import matplotlib.pyplot as plt\n",
    "\n",
    "def p(r,N,g,e):\n",
    "    if g==0:\n",
    "        return binom(N,r)*(e)**r*(1-e)**(N-r)\n",
    "    if g==1:\n",
    "        return binom(N,r)*2**(-N)\n",
    "    if g==2:\n",
    "        return binom(N,r)*(1-e)**r*e**(N-r)\n",
    "\n",
    "def L(r,N,g,e,psi):\n",
    "    '''\n",
    "    r - observed number of reference alleles in the sample\n",
    "    N - depth\n",
    "    g - genotype\n",
    "    e - error rate (asumed the same for all reads)\n",
    "    psi - reference allele frequency\n",
    "    \n",
    "    Returns: P((r,N)|g, \\psi)\n",
    "    '''\n",
    "    return p(r,N,g,e)*binom(2,g)*(psi**g*(1-psi)**(2-g))\n",
    "\n",
    "def mpsinew1(r,N,e,psi):\n",
    "    '''\n",
    "    r - observed number of reference alleles\n",
    "    N - depth\n",
    "    e - error rate\n",
    "    psi - reference allele frequency\n",
    "    \n",
    "    Returns: Expected genotype E(g|d,psi)\n",
    "    '''\n",
    "    return np.sum([g*L(r,N,g,e,psi) for g in [0,1,2]])/np.sum([L(r,N,g,e,psi) for g in [0,1,2]])\n",
    "\n",
    "\n",
    "def EM(N,e,psi0,D,iters):\n",
    "    '''\n",
    "    N - depth\n",
    "    e - error rate\n",
    "    psi0 - initial guess for allele frequency in the population\n",
    "    D - the data (a list of integers between 0 and N)\n",
    "    iters - the number of iterations\n",
    "    \n",
    "    Returns: list of iters new estimates for psi\n",
    "    '''\n",
    "    psi=psi0\n",
    "    ans = []\n",
    "    for i in range(iters):\n",
    "        S=[mpsinew1(r,N,e,psi) for r in D]\n",
    "        psi=np.sum(S)/2/len(D)\n",
    "        ans.append(psi)\n",
    "    return ans\n",
    "        \n",
    "N=20\n",
    "e=.1\n",
    "psi0=.5\n",
    "D=[13,15,12,13,17]\n",
    "L=EM(N,e,psi0,D,20)\n",
    "a=plt.plot(range(len(L)),L)\n",
    "t=plt.title('Convergence of EM to maximum likelihood estimate')"
   ]
  },
  {
   "cell_type": "markdown",
   "metadata": {
    "lines_to_next_cell": 2
   },
   "source": [
    "## Bayesian perspective\n",
    "\n",
    "From a Bayesian point of view, we have a hierarchical model where we can pick:\n",
    "- a uniform prior on $\\psi$ (for example) \n",
    "- the genotype is distributed as $\\mathrm{binomial}(2,\\psi)$\n",
    "- given the genotype, and assuming constant depth $N$ and constant error rate $\\epsilon$, the number $r$ of reference alleles is distributed as \n",
    "    - $\\mathrm{binomial}(N,1-\\epsilon)$ if $g=2$\n",
    "    - $\\mathrm{binomial}(N,1/2)$ if $g=1$\n",
    "    - $\\mathrm{binomial}(N,\\epsilon)$ if $g=0$.\n",
    "\n",
    "We can cast this into the STAN language and use its NUTS sampler to get a distribution for $\\psi$.\n"
   ]
  },
  {
   "cell_type": "code",
   "execution_count": 10,
   "metadata": {
    "lines_to_next_cell": 2
   },
   "outputs": [
    {
     "name": "stderr",
     "output_type": "stream",
     "text": [
      "INFO:pystan:COMPILING THE C++ CODE FOR MODEL anon_model_601a00380873c2229319e991f2f183a0 NOW.\n"
     ]
    }
   ],
   "source": [
    "import pystan\n",
    "\n",
    "genotype_code = \"\"\"\n",
    "data {\n",
    "    int<lower=0> N ; // sequencing depth\n",
    "    real e ; //error probability\n",
    "    int<lower=0> S ; // number of samples\n",
    "    int r[S]; // number of reference alleles in each sample\n",
    "}\n",
    "parameters {\n",
    "    real psi;  // reference allele frequency\n",
    "\n",
    "}\n",
    "model { \n",
    "    real a ; \n",
    "\n",
    "    for (i in 1:S){\n",
    "     a=0 ; \n",
    "     for (j in 0:2) {\n",
    "         a += exp(binomial_lpmf(r[i] | N, .5*((2-j)*e + j*(1-e)))+binomial_lpmf(j | 2,psi)) ; // sum over the genotypes\n",
    "     }\n",
    "     target += log(a) ; // sum over the samples to get likelihood of the data\n",
    "    }\n",
    "}\n",
    "\"\"\"\n",
    "\n",
    "sm=pystan.StanModel(model_code=genotype_code)"
   ]
  },
  {
   "cell_type": "markdown",
   "metadata": {},
   "source": [
    "We make some sample data assuming that the reference allele frequency is .7 and there's some variation around the expected number."
   ]
  },
  {
   "cell_type": "code",
   "execution_count": 11,
   "metadata": {},
   "outputs": [
    {
     "data": {
      "text/plain": [
       "Inference for Stan model: anon_model_601a00380873c2229319e991f2f183a0.\n",
       "4 chains, each with iter=10000; warmup=5000; thin=1; \n",
       "post-warmup draws per chain=5000, total post-warmup draws=20000.\n",
       "\n",
       "       mean se_mean     sd   2.5%    25%    50%    75%  97.5%  n_eff   Rhat\n",
       "psi    0.72  1.2e-4   0.01    0.7   0.71   0.72   0.72   0.74   7389    1.0\n",
       "lp__  -3822  7.2e-3   0.69  -3824  -3822  -3822  -3822  -3822   9101    1.0\n",
       "\n",
       "Samples were drawn using NUTS at Wed May  1 14:53:04 2019.\n",
       "For each parameter, n_eff is a crude measure of effective sample size,\n",
       "and Rhat is the potential scale reduction factor on split chains (at \n",
       "convergence, Rhat=1)."
      ]
     },
     "execution_count": 11,
     "metadata": {},
     "output_type": "execute_result"
    }
   ],
   "source": [
    "from scipy.stats import binom, randint\n",
    "def r(i):\n",
    "    if i==0:\n",
    "        return randint(0,2).rvs(1)[0]\n",
    "    if i==1:\n",
    "        return randint(-1,2).rvs(1)[0]\n",
    "    if i==2:\n",
    "        return randint(-1,1).rvs(1)[0]\n",
    "X = binom(2,.7).rvs(1000)\n",
    "Y = 10*X+np.array([r(X[i]) for i in range(1000)])\n",
    "genotype_data={'N':20,'e':.2,'S':1000, 'r':Y}\n",
    "genotype_fit = sm.sampling(data=genotype_data,iter=10000,chains=4)\n",
    "genotype_fit"
   ]
  },
  {
   "cell_type": "code",
   "execution_count": 12,
   "metadata": {},
   "outputs": [
    {
     "name": "stderr",
     "output_type": "stream",
     "text": [
      "WARNING:pystan:Deprecation warning. In future, use ArviZ library (`pip install arviz`)\n"
     ]
    },
    {
     "data": {
      "image/png": "[encoded data removed]",
      "text/plain": [
       "<Figure size 432x288 with 2 Axes>"
      ]
     },
     "metadata": {
      "needs_background": "light"
     },
     "output_type": "display_data"
    }
   ],
   "source": [
    "fig=genotype_fit.plot()"
   ]
  },
  {
   "cell_type": "code",
   "execution_count": 51,
   "metadata": {},
   "outputs": [
    {
     "data": {
      "text/plain": [
       "Inference for Stan model: anon_model_601a00380873c2229319e991f2f183a0.\n",
       "4 chains, each with iter=10000; warmup=5000; thin=1; \n",
       "post-warmup draws per chain=5000, total post-warmup draws=20000.\n",
       "\n",
       "       mean se_mean     sd   2.5%    25%    50%    75%  97.5%  n_eff   Rhat\n",
       "psi    0.83  1.4e-4   0.01   0.81   0.83   0.83   0.84   0.86   7373    1.0\n",
       "lp__  -6583  7.3e-3   0.71  -6585  -6583  -6583  -6583  -6583   9291    1.0\n",
       "\n",
       "Samples were drawn using NUTS at Wed May  1 14:38:22 2019.\n",
       "For each parameter, n_eff is a crude measure of effective sample size,\n",
       "and Rhat is the potential scale reduction factor on split chains (at \n",
       "convergence, Rhat=1)."
      ]
     },
     "execution_count": 51,
     "metadata": {},
     "output_type": "execute_result"
    }
   ],
   "source": [
    "genotype_data={'N':20,'e':.4,'S':1000, 'r':Y}\n",
    "genotype_fit = sm.sampling(data=genotype_data,iter=10000,chains=4)\n",
    "genotype_fit"
   ]
  },
  {
   "cell_type": "code",
   "execution_count": 52,
   "metadata": {},
   "outputs": [
    {
     "name": "stderr",
     "output_type": "stream",
     "text": [
      "WARNING:pystan:Deprecation warning. In future, use ArviZ library (`pip install arviz`)\n"
     ]
    },
    {
     "data": {
      "image/png": "[encoded data removed]",
      "text/plain": [
       "<Figure size 432x288 with 2 Axes>"
      ]
     },
     "metadata": {
      "needs_background": "light"
     },
     "output_type": "display_data"
    }
   ],
   "source": [
    "fig=genotype_fit.plot()"
   ]
  },
  {
   "cell_type": "code",
   "execution_count": null,
   "metadata": {
    "lines_to_next_cell": 2
   },
   "outputs": [],
   "source": []
  }
 ],
 "metadata": {
  "jupytext": {
   "text_representation": {
    "extension": ".py",
    "format_name": "percent",
    "format_version": "1.2",
    "jupytext_version": "0.8.6"
   }
  },
  "kernelspec": {
   "display_name": "Python 3",
   "language": "python",
   "name": "python3"
  },
  "language_info": {
   "codemirror_mode": {
    "name": "ipython",
    "version": 3
   },
   "file_extension": ".py",
   "mimetype": "text/x-python",
   "name": "python",
   "nbconvert_exporter": "python",
   "pygments_lexer": "ipython3",
   "version": "3.6.7"
  }
 },
 "nbformat": 4,
 "nbformat_minor": 2
}
