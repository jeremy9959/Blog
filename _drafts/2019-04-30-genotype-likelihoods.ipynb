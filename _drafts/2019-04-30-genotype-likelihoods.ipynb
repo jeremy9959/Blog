{
 "cells": [
  {
   "cell_type": "markdown",
   "metadata": {},
   "source": [
    "## SNP calling\n",
    "\n",
    "These are some notes on the (old) paper:\n",
    "\n",
    "*Li, H. A statistical framework for SNP calling, mutation discovery, association mapping and population genetical parameter estimation from sequencing data. Bioinformatics, Vol. 27, no. 21, 2011, pp. 2987-2993.*"
   ]
  },
  {
   "cell_type": "markdown",
   "metadata": {},
   "source": [
    "For simplicity, we assume we have a diploid individual.  We imagine that we do some sequencing experiments on a population in Hardy-Weinberg equilibrium (HWE). We are interested in a particular site in the genome, where we assume that our sequencing experiments yield either a reference allele R or an alternative allele A.  We would like to estimate the\n",
    "frequency $\\psi$  of the reference allele in the population. \n",
    "\n",
    "A given individual can have one of three genotypes: RR, RA, and AA.  Since the population is in HWE, the frequencies of these genotypes are $\\psi^2$, $2\\psi(1-\\psi)$, and $(1-\\psi)^2$.  \n",
    "\n",
    "A sequencing experiment of depth $k$ on an individual yields $l$ reference bases $R_1,\\ldots, R_{l}$  and $k-l$ alternative bases $A_{l+1}, \\ldots, A_{k}$. \n",
    "Each base also has an associated error $\\epsilon_j$ which is the probability that the $j^{th}$ base read is incorrect.\n",
    "\n",
    "Let $g$ be the number of reference bases in the genotype (so $g=0,1,2$).  The\n",
    "likelihood of obtaining $l$ reference bases out of $k$ tries assuming genotype $g=0$ is\n",
    "$$\n",
    "P(l|g=0)=\\prod_{j=1}^{l}P(\\mathrm{read}_j=R|\\mathrm{truth}_j=A) \\prod_{j=l+1}^{k}P(\\mathrm{read}_j=A|\\mathrm{truth}_j=A)=\\prod_{j=1}^{l}\\epsilon_{j}\\prod_{j=l+1}^{k}(1-\\epsilon_{j})\n",
    "$$\n",
    "\n",
    "In the $g=1$ case, we use the fact that\n",
    "$$\n",
    "P(\\mathrm{truth}=A)=P(\\mathrm{truth}=R)=\\frac{1}{2}\n",
    "$$\n",
    "and\n",
    "$$\n",
    "P(\\mathrm{read}=R|\\mathrm{truth}=A)=P(\\mathrm{read}=A|\\mathrm{truth}=R)=\\epsilon\n",
    "$$\n",
    "to conclude that\n",
    "$$\n",
    "P(\\mathrm{read}=R)=P(\\mathrm{read}=R|\\mathrm{truth}=R)P(\\mathrm{truth}=R)+P(\\mathrm{read}=R|\\mathrm{truth}=A)P(\\mathrm{truth}=A)=\\frac{1}{2}\n",
    "$$\n",
    "and similarly \n",
    "$$\n",
    "P(\\mathrm{read}=A)=\\frac{1}{2}.\n",
    "$$\n",
    "\n",
    "Therefore:\n",
    "$$\n",
    "P(l|g=1)=\\prod_{j=1}^{l}P(\\mathrm{read}_j=R)\\prod_{j=l+1}^{k}P(\\mathrm{read}_j=A)=\\frac{1}{2^k}\n",
    "$$\n",
    "\n",
    "Lastly, the computation for $g=2$ is just like the case for $g=0$ and yields\n",
    "$$\n",
    "P(l|g=2)=\\prod_{j=1}^{l}(1-\\epsilon_{j})\\prod_{j=l+1}^{k}\\epsilon_{j}\n",
    "$$"
   ]
  },
  {
   "cell_type": "markdown",
   "metadata": {},
   "source": [
    "## Multiple samples\n",
    "\n",
    "The calculation above examines the case of what we expect if we do a sequencing experiment on a single individual and attempt to reconstruct the genotype of that individual.  But we are interested in the allele frequency in the population.   So we do the sequencing experiment on multiple individuals; let $(l_i, k_i)$, for $i=1,\\ldots, n$ be the number of reference alleles and the depth that we obtain from experiment $i$.   Using the HWE, \n",
    "we have\n",
    "\n",
    "$$\n",
    "P((l_i,k_i)|\\psi)=\\sum_{g=0}^{2} P((l_i,k_i)|g)P(g|\\psi)\n",
    "$$\n",
    "and the combined probability is\n",
    "$$\n",
    "P(\\{(l_i,k_i)\\}_{i=1}^{n}|\\psi)=\\prod_{i=1}^{n}P((l_i,k_i)|\\psi).\n",
    "$$\n",
    "\n",
    "Using this one can, for example, compute the maximum likelihood estimate of $\\psi$. \n",
    "\n",
    "The following functions give a crude implementation of the EM algorithm in the paper.\n",
    "\n",
    "- N is the depth (assumed the same for all samples)\n",
    "- r is the number of reference alleles\n",
    "- e is the error probability (assumed the same for all samples)\n",
    "- g is the genotype (0,1,2) -- ploidy fixed at 2\n"
   ]
  },
  {
   "cell_type": "code",
   "execution_count": 147,
   "metadata": {},
   "outputs": [],
   "source": [
    "import numpy as np\n",
    "from scipy.special import binom\n",
    "\n",
    "def p(r,N,g,e):\n",
    "    if g==0:\n",
    "        return binom(N,r)*(e)**r*(1-e)**(N-r)\n",
    "    if g==1:\n",
    "        return binom(N,r)*2**(-N)\n",
    "    if g==2:\n",
    "        return binom(N,r)*(1-e)**r*e**(N-r)\n",
    "\n",
    "def gmax(r,N,e,psi):\n",
    "    return np.argmax([p(r,N,g,e)*binom(2,g)*(psi**g*(1-psi)**(2-g)) for g in [0,1,2]])\n",
    "\n",
    "def psinew(psi):\n",
    "    return np.sum([gmax(r,10,.2,psi) for r in D])/2/len(D)\n",
    "\n",
    "def L(r,N,g,e,psi):\n",
    "    return p(r,N,g,e)*binom(2,g)*(psi**g*(1-psi)**(2-g))\n",
    "\n",
    "def mpsinew1(r,N,e,psi):\n",
    "    return np.sum([g*L(r,N,g,e,psi) for g in [0,1,2]])/2/np.sum([L(r,N,g,e,psi) for g in [0,1,2]])\n",
    "\n",
    "\n",
    "def EM(N,e,psi0,D,iters):\n",
    "    '''\n",
    "    N - depth\n",
    "    e - error rate\n",
    "    psi0 - initial guess for allele frequency in the population\n",
    "    D - the data (a list of integers between 0 and N)\n",
    "    iters - the number of iterations\n",
    "    '''\n",
    "    psi=psi0\n",
    "    for i in range(iters):\n",
    "        S=[mpsinew1(r,N,e,psi) for r in D]\n",
    "        psi=np.sum(S)/len(D)\n",
    "        print(psi)"
   ]
  },
  {
   "cell_type": "code",
   "execution_count": 149,
   "metadata": {},
   "outputs": [
    {
     "name": "stdout",
     "output_type": "stream",
     "text": [
      "Help on function EM in module __main__:\n",
      "\n",
      "EM(N, e, psi0, D, iters)\n",
      "    N - depth\n",
      "    e - error rate\n",
      "    psi0 - initial guess for allele frequency in the population\n",
      "    D - the data (a list of integers between 0 and N)\n",
      "    iters - the number of iterations\n",
      "\n"
     ]
    }
   ],
   "source": [
    "help(EM)"
   ]
  },
  {
   "cell_type": "code",
   "execution_count": null,
   "metadata": {},
   "outputs": [],
   "source": []
  }
 ],
 "metadata": {
  "jupytext": {
   "main_language": "python",
   "text_representation": {
    "extension": ".py",
    "format_name": "percent",
    "format_version": "1.2",
    "jupytext_version": "0.8.6"
   }
  },
  "kernelspec": {
   "display_name": "Python 3",
   "language": "python",
   "name": "python3"
  },
  "language_info": {
   "codemirror_mode": {
    "name": "ipython",
    "version": 3
   },
   "file_extension": ".py",
   "mimetype": "text/x-python",
   "name": "python",
   "nbconvert_exporter": "python",
   "pygments_lexer": "ipython3",
   "version": "3.6.7"
  }
 },
 "nbformat": 4,
 "nbformat_minor": 2
}
